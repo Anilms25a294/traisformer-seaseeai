{
 "cells": [
  {
   "cell_type": "code",
   "execution_count": null,
   "id": "044149f5",
   "metadata": {},
   "outputs": [],
   "source": [
    "# Cell 1: Setup\n",
    "import sys\n",
    "sys.path.append('..')  # Add src to path\n",
    "\n",
    "from src.data_processing.ais_data_loader import AISDataLoader\n",
    "from src.models.simple_lstm_model import SimpleLSTMModel\n",
    "\n",
    "print(\"✅ Imports successful!\")"
   ]
  },
  {
   "cell_type": "code",
   "execution_count": null,
   "id": "613ecb10",
   "metadata": {},
   "outputs": [],
   "source": [
    "# Cell 2: Test data loader\n",
    "loader = AISDataLoader()\n",
    "data = loader.load_sample_data()\n",
    "print(\"Sample AIS Data:\")\n",
    "print(data.head())"
   ]
  },
  {
   "cell_type": "code",
   "execution_count": null,
   "id": "6094456e",
   "metadata": {},
   "outputs": [],
   "source": [
    "# Cell 3: Test model\n",
    "model = SimpleLSTMModel()\n",
    "print(\"Model architecture:\")\n",
    "print(model)\n",
    "\n",
    "# Test with sample data\n",
    "import torch\n",
    "sample_input = torch.randn(1, 10, 4)  # batch_size=1, seq_len=10, features=4\n",
    "output = model(sample_input)\n",
    "print(f\"Input: {sample_input.shape} -> Output: {output.shape}\")"
   ]
  }
 ],
 "metadata": {
  "language_info": {
   "name": "python"
  }
 },
 "nbformat": 4,
 "nbformat_minor": 5
}
